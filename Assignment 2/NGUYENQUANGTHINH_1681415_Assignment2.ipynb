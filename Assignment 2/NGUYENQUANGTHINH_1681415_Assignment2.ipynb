{
 "cells": [
  {
   "cell_type": "code",
   "execution_count": 1,
   "id": "c66685c4",
   "metadata": {},
   "outputs": [],
   "source": [
    "import numpy as np\n",
    "import pandas as pd\n",
    "import matplotlib.pyplot as plt\n",
    "import seaborn as sns\n",
    "\n",
    "from sklearn.linear_model import SGDClassifier\n",
    "from sklearn.model_selection import train_test_split, cross_val_predict\n",
    "from sklearn.metrics import confusion_matrix, precision_score, f1_score\n",
    "\n",
    "#Load data\n",
    "df = pd.read_csv('cleaned_data.csv')"
   ]
  },
  {
   "cell_type": "code",
   "execution_count": null,
   "id": "656c4c13",
   "metadata": {},
   "outputs": [
    {
     "data": {
      "text/plain": [
       "['department', 'salary']"
      ]
     },
     "execution_count": 3,
     "metadata": {},
     "output_type": "execute_result"
    }
   ],
   "source": [
    "#Ensure all attributes are numeric\n",
    "\n",
    "#Identify any other columns that are still non-numeric\n",
    "categorical_cols = df.select_dtypes(include=['object']).columns.tolist()\n",
    "categorical_cols"
   ]
  },
  {
   "cell_type": "code",
   "execution_count": null,
   "id": "31a9af1c",
   "metadata": {},
   "outputs": [
    {
     "data": {
      "text/plain": [
       "array(['sales', 'accounting', 'hr', 'technical', 'support', 'management',\n",
       "       'IT', 'product_mng', 'marketing', 'RandD'], dtype=object)"
      ]
     },
     "execution_count": 5,
     "metadata": {},
     "output_type": "execute_result"
    }
   ],
   "source": [
    "#Inspect unique values in the columns of 'department'\n",
    "df['department'].unique()"
   ]
  },
  {
   "cell_type": "code",
   "execution_count": 6,
   "id": "6e53c484",
   "metadata": {},
   "outputs": [
    {
     "data": {
      "text/plain": [
       "array([0, 1, 2, 3, 4, 5, 6, 7, 8, 9])"
      ]
     },
     "execution_count": 6,
     "metadata": {},
     "output_type": "execute_result"
    }
   ],
   "source": [
    "#Map 'department' column\n",
    "\n",
    "department_mapping = {\n",
    "    'sales': 0,\n",
    "    'accounting': 1,\n",
    "    'hr': 2,\n",
    "    'technical': 3,\n",
    "    'support': 4,\n",
    "    'management': 5,\n",
    "    'IT': 6,\n",
    "    'product_mng': 7,\n",
    "    'marketing': 8,\n",
    "    'RandD': 9\n",
    "}\n",
    "\n",
    "df['department'] = df['department'].map(department_mapping)\n",
    "df['department'].unique()"
   ]
  },
  {
   "cell_type": "code",
   "execution_count": 7,
   "id": "fa8c6158",
   "metadata": {},
   "outputs": [
    {
     "data": {
      "text/plain": [
       "array(['low', 'medium', 'high'], dtype=object)"
      ]
     },
     "execution_count": 7,
     "metadata": {},
     "output_type": "execute_result"
    }
   ],
   "source": [
    "#Inspect unique values in the columns of 'salary'\n",
    "df['salary'].unique()"
   ]
  },
  {
   "cell_type": "code",
   "execution_count": 8,
   "id": "05f522b3",
   "metadata": {},
   "outputs": [
    {
     "data": {
      "text/plain": [
       "array([0, 1, 2])"
      ]
     },
     "execution_count": 8,
     "metadata": {},
     "output_type": "execute_result"
    }
   ],
   "source": [
    "salary_mapping = {\n",
    "    'low': 0,\n",
    "    'medium': 1,\n",
    "    'high': 2\n",
    "}\n",
    "\n",
    "df['salary'] = df['salary'].map(salary_mapping)\n",
    "df['salary'].unique()"
   ]
  },
  {
   "cell_type": "code",
   "execution_count": 9,
   "id": "f1f75829",
   "metadata": {},
   "outputs": [
    {
     "name": "stdout",
     "output_type": "stream",
     "text": [
      "\n",
      "Test Set Results:\n",
      "Confusion Matrix:\n",
      "[[1426  103]\n",
      " [ 220   90]]\n",
      "Precision: 0.4663\n",
      "F1 Score: 0.3579\n",
      "============================================\n",
      "\n",
      "\n",
      "Test Set Results:\n",
      "Confusion Matrix:\n",
      "[[2525    9]\n",
      " [ 531    0]]\n",
      "Precision: 0.0000\n",
      "F1 Score: 0.0000\n",
      "============================================\n",
      "\n",
      "\n",
      "Test Set Results:\n",
      "Confusion Matrix:\n",
      "[[3513   33]\n",
      " [ 740    5]]\n",
      "Precision: 0.1316\n",
      "F1 Score: 0.0128\n",
      "============================================\n",
      "\n"
     ]
    }
   ],
   "source": [
    "x= df.drop('left', axis=1)\n",
    "y= df['left']\n",
    "\n",
    "#Define train/test splits\n",
    "splits = [(0.85, 0.15), (0.75, 0.25), (0.65, 0.35)]\n",
    "random_state = 42\n",
    "\n",
    "#Loop over each split, train and evaluate\n",
    "for train_pct, test_pct in splits:\n",
    "    x_train, x_test, y_train, y_test = train_test_split(\n",
    "        x, y, test_size=test_pct, random_state=random_state, shuffle=True\n",
    "    )\n",
    "\n",
    "    permutation = np.random.permutation(len(x_train))\n",
    "    x_train_shuffled = x_train.iloc[permutation].reset_index(drop=True)\n",
    "    y_train_shuffled = y_train.iloc[permutation].reset_index(drop=True)\n",
    "\n",
    "    #Initialize the classifier\n",
    "    clf = SGDClassifier(random_state=random_state, max_iter=1000, tol=1e-3)\n",
    "\n",
    "    #Setup an out-of-sample prediction for every training data point\n",
    "    y_train_cv_pred = cross_val_predict(clf, x_train_shuffled, y_train_shuffled, cv=5, n_jobs= -1)\n",
    "\n",
    "    #Evaluate the training set performance\n",
    "\n",
    "    clf.fit(x_train_shuffled, y_train_shuffled)\n",
    "\n",
    "    y_test_pred = clf.predict(x_test)\n",
    "\n",
    "    # Calculate evaluation metrics for the test set.\n",
    "    cm = confusion_matrix(y_test, y_test_pred)\n",
    "    precision = precision_score(y_test, y_test_pred)\n",
    "    f1 = f1_score(y_test, y_test_pred)\n",
    "\n",
    "\n",
    "    # Display the results.\n",
    "    print(\"\\nTest Set Results:\")\n",
    "    print(\"Confusion Matrix:\")\n",
    "    print(cm)\n",
    "    print(\"Precision: {:.4f}\".format(precision))\n",
    "    print(\"F1 Score: {:.4f}\".format(f1))\n",
    "    print(\"============================================\\n\")"
   ]
  }
 ],
 "metadata": {
  "kernelspec": {
   "display_name": ".venv",
   "language": "python",
   "name": "python3"
  },
  "language_info": {
   "codemirror_mode": {
    "name": "ipython",
    "version": 3
   },
   "file_extension": ".py",
   "mimetype": "text/x-python",
   "name": "python",
   "nbconvert_exporter": "python",
   "pygments_lexer": "ipython3",
   "version": "3.12.5"
  }
 },
 "nbformat": 4,
 "nbformat_minor": 5
}
